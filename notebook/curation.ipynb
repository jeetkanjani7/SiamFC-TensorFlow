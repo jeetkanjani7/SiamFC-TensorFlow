{
 "cells": [
  {
   "cell_type": "code",
   "execution_count": 6,
   "metadata": {},
   "outputs": [],
   "source": [
    "import os \n",
    "import sys\n",
    "import glob\n",
    "import xml.etree.ElementTree as ET\n",
    "from cv2 import imread, imwrite, imshow, waitKey\n",
    "import cv2\n"
   ]
  },
  {
   "cell_type": "code",
   "execution_count": 7,
   "metadata": {},
   "outputs": [],
   "source": [
    "sys.path.insert(0, '../')"
   ]
  },
  {
   "cell_type": "code",
   "execution_count": 8,
   "metadata": {},
   "outputs": [],
   "source": [
    "from utils.misc_utils import mkdir_p\n",
    "from utils.infer_utils import convert_bbox_format, get_crops, Rectangle"
   ]
  },
  {
   "cell_type": "code",
   "execution_count": 9,
   "metadata": {},
   "outputs": [],
   "source": [
    "data_dir  = ''\n",
    "save_dir = '../../data/Imagenet/ILSVRC/Curated'\n",
    "annotation_dir = ''"
   ]
  },
  {
   "cell_type": "code",
   "execution_count": 5,
   "metadata": {},
   "outputs": [
    {
     "ename": "NameError",
     "evalue": "name 'annotation_dir' is not defined",
     "output_type": "error",
     "traceback": [
      "\u001b[0;31m---------------------------------------------------------------------------\u001b[0m",
      "\u001b[0;31mNameError\u001b[0m                                 Traceback (most recent call last)",
      "\u001b[0;32m<ipython-input-5-8b8abe65e63e>\u001b[0m in \u001b[0;36m<module>\u001b[0;34m()\u001b[0m\n\u001b[0;32m----> 1\u001b[0;31m \u001b[0mvideo_names\u001b[0m \u001b[0;34m=\u001b[0m \u001b[0mos\u001b[0m\u001b[0;34m.\u001b[0m\u001b[0mlistdir\u001b[0m\u001b[0;34m(\u001b[0m\u001b[0mannotation_dir\u001b[0m\u001b[0;34m)\u001b[0m\u001b[0;34m\u001b[0m\u001b[0m\n\u001b[0m\u001b[1;32m      2\u001b[0m \u001b[0mtotal_videos\u001b[0m \u001b[0;34m=\u001b[0m \u001b[0mlen\u001b[0m\u001b[0;34m(\u001b[0m\u001b[0mvideo_names\u001b[0m\u001b[0;34m)\u001b[0m\u001b[0;34m\u001b[0m\u001b[0m\n",
      "\u001b[0;31mNameError\u001b[0m: name 'annotation_dir' is not defined"
     ]
    }
   ],
   "source": [
    "video_names = os.listdir(annotation_dir)\n",
    "total_videos = len(video_names)"
   ]
  },
  {
   "cell_type": "code",
   "execution_count": null,
   "metadata": {},
   "outputs": [],
   "source": [
    "def get_label(video):\n",
    "    return os.path.join(save_dir, video)"
   ]
  },
  {
   "cell_type": "code",
   "execution_count": null,
   "metadata": {
    "scrolled": false
   },
   "outputs": [],
   "source": [
    "for idx,video in enumerate(video_names):\n",
    "    video_path = os.path.join(annotation_dir, video)\n",
    "  \n",
    "    xml_files = glob.glob(os.path.join(video_path, '*.xml'))\n",
    "    print(\"[{}/{}] \".format(idx, total_videos) + video)\n",
    "    for xml in xml_files:\n",
    "        tree = ET.parse(xml)\n",
    "        root = tree.getroot()\n",
    "        folder = root.find('folder').text\n",
    "        folder = folder.split('/',1)[1]\n",
    "        filename = root.find('filename').text\n",
    "  \n",
    "        img_file = os.path.join(data_dir, folder, filename + '.JPEG')\n",
    "        \n",
    "        img = None \n",
    "        bboxs = []\n",
    "        for object in root.iter('object'):\n",
    "            bbox = object.find('bndbox')\n",
    "            x_max = float(bbox.find('xmax').text)\n",
    "            x_min = float(bbox.find('xmin').text)\n",
    "            y_max = float(bbox.find('ymax').text)\n",
    "            y_min = float(bbox.find('ymin').text)\n",
    "            \n",
    "            width = x_max - x_min + 1\n",
    "            height = y_max - y_min + 1\n",
    "            bboxs.append([x_min, y_min, width, height])\n",
    "        for idx, obj in enumerate(root.iter('object')):\n",
    "            id = int(obj.find('trackid').text)\n",
    "            class_name = obj.find('name').text\n",
    "            track_save_dir = get_label(video)\n",
    "            \n",
    "            mkdir_p(track_save_dir)\n",
    "            \n",
    "            savename = os.path.join(track_save_dir, '{}.{:02d}.crop.x.jpg'.format(filename, int(id)))\n",
    "  \n",
    "            if(os.path.isfile(savename)): continue\n",
    "            if img is None:\n",
    "                img = imread(img_file,1)\n",
    "            if img is None:\n",
    "                print('img not present')\n",
    "    \n",
    "            \n",
    "            target_box = convert_bbox_format(Rectangle(*bboxs[idx]), 'center-based')\n",
    "            \n",
    "           \n",
    "         \n",
    "            crop, _ = get_crops(img, target_box, size_z=127, size_x=255, context_amount=0.5)\n",
    "            \n",
    "            imwrite(savename, crop, [int(cv2.IMWRITE_JPEG_QUALITY), 90])\n",
    "            \n",
    "            "
   ]
  },
  {
   "cell_type": "code",
   "execution_count": null,
   "metadata": {},
   "outputs": [],
   "source": [
    "img_test = imread('../../data/Imagenet/ILSVRC/Data/VID/train/ILSVRC2017_VID_train_0000/ILSVRC2017_train_00079000/000028.JPEG',1)"
   ]
  },
  {
   "cell_type": "code",
   "execution_count": null,
   "metadata": {},
   "outputs": [],
   "source": [
    "\n",
    "\n"
   ]
  },
  {
   "cell_type": "code",
   "execution_count": null,
   "metadata": {},
   "outputs": [],
   "source": []
  }
 ],
 "metadata": {
  "kernelspec": {
   "display_name": "Python 2",
   "language": "python",
   "name": "python2"
  },
  "language_info": {
   "codemirror_mode": {
    "name": "ipython",
    "version": 2
   },
   "file_extension": ".py",
   "mimetype": "text/x-python",
   "name": "python",
   "nbconvert_exporter": "python",
   "pygments_lexer": "ipython2",
   "version": "2.7.12"
  }
 },
 "nbformat": 4,
 "nbformat_minor": 2
}
